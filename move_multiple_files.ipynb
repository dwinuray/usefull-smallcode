{
  "nbformat": 4,
  "nbformat_minor": 0,
  "metadata": {
    "colab": {
      "name": "move_multiple_files.ipynb",
      "provenance": [],
      "authorship_tag": "ABX9TyOnE1+K+QZHtJvhZAOfDOT+",
      "include_colab_link": true
    },
    "kernelspec": {
      "name": "python3",
      "display_name": "Python 3"
    },
    "language_info": {
      "name": "python"
    }
  },
  "cells": [
    {
      "cell_type": "markdown",
      "metadata": {
        "id": "view-in-github",
        "colab_type": "text"
      },
      "source": [
        "<a href=\"https://colab.research.google.com/github/dwinuray/usefull-smallcode/blob/main/move_multiple_files.ipynb\" target=\"_parent\"><img src=\"https://colab.research.google.com/assets/colab-badge.svg\" alt=\"Open In Colab\"/></a>"
      ]
    },
    {
      "cell_type": "code",
      "execution_count": null,
      "metadata": {
        "id": "3Ff08xTFKCpX"
      },
      "outputs": [],
      "source": [
        "# required module\n",
        "import os\n",
        "\n",
        "#assign main directory\n",
        "directory = 'first_directory'\n",
        "destination = 'secondary_directory'"
      ]
    },
    {
      "cell_type": "code",
      "source": [
        "for foldername in os.scandir(directory):\n",
        "  if foldername.is_dir():\n",
        "    \n",
        "    # display name folder\n",
        "    list = os.listdir(foldername.path) # jumlah file\n",
        "    count_file = len(list)\n",
        "    \n",
        "    print(f\"Folder {foldername.name} : {count_file} file\")\n",
        "\n",
        "    os.rename(foldername.path, destination + \"/\" + foldername.name)\n"
      ],
      "metadata": {
        "colab": {
          "base_uri": "https://localhost:8080/"
        },
        "id": "S90086qUQywh",
        "outputId": "46305514-3c0e-40e6-b778-dd989a08818c"
      },
      "execution_count": null,
      "outputs": [
        {
          "output_type": "stream",
          "name": "stdout",
          "text": [
            "Folder folder_a : 1 file\n",
            "Folder folder_b : 2 file\n"
          ]
        }
      ]
    }
  ]
}